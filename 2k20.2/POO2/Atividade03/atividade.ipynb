{
 "metadata": {
  "language_info": {
   "codemirror_mode": {
    "name": "ipython",
    "version": 3
   },
   "file_extension": ".py",
   "mimetype": "text/x-python",
   "name": "python",
   "nbconvert_exporter": "python",
   "pygments_lexer": "ipython3",
   "version": "3.8.3"
  },
  "orig_nbformat": 2,
  "kernelspec": {
   "name": "python383jvsc74a57bd0417df5782e2fc9fd56ecb68811f188b88f3b3d145884c3748cee455b27c3f972",
   "display_name": "Python 3.8.3 64-bit"
  },
  "metadata": {
   "interpreter": {
    "hash": "417df5782e2fc9fd56ecb68811f188b88f3b3d145884c3748cee455b27c3f972"
   }
  }
 },
 "nbformat": 4,
 "nbformat_minor": 2,
 "cells": [
  {
   "source": [
    "## Bibliotecas utilizadas:\n"
   ],
   "cell_type": "markdown",
   "metadata": {}
  },
  {
   "cell_type": "code",
   "execution_count": null,
   "metadata": {},
   "outputs": [],
   "source": [
    "from skimage.io import imread\n",
    "from matplotlib.pyplot import imshow\n",
    "from datetime import date\n"
   ]
  },
  {
   "source": [
    "## Classe Pessoa:"
   ],
   "cell_type": "markdown",
   "metadata": {}
  },
  {
   "cell_type": "code",
   "execution_count": null,
   "metadata": {},
   "outputs": [],
   "source": [
    "class Pessoa(object):\n",
    "\n",
    "    __slots__ = [\"_nome\", \"_cpf\", \"_endereco\", \"_telefone\"]\n",
    "\n",
    "    def __init__(self, nome, cpf, endereco, telefone):\n",
    "        self._nome = nome\n",
    "        self._cpf = cpf\n",
    "        self._endereco = endereco\n",
    "        self._telefone = telefone\n",
    "\n",
    "    @property\n",
    "    def nome(self):\n",
    "        return self._nome\n",
    "\n",
    "    @nome.setter\n",
    "    def nome(self, nome):\n",
    "        self._nome = nome\n",
    "\n",
    "    @property\n",
    "    def cpf(self):\n",
    "        return self._cpf\n",
    "\n",
    "    @cpf.setter\n",
    "    def cpf(self, cpf):\n",
    "        self._cpf = cpf\n",
    "\n",
    "    @property\n",
    "    def endereco(self):\n",
    "        return self._endereco\n",
    "\n",
    "    @endereco.setter\n",
    "    def endereco(self, endereco):\n",
    "        self._endereco = endereco\n",
    "\n",
    "    @property\n",
    "    def telefone(self):\n",
    "        return self._telefone\n",
    "\n",
    "    @telefone.setter\n",
    "    def telefone(self, telefone):\n",
    "        self._telefone = telefone\n",
    "\n",
    "    def mostrarPessoa(self):\n",
    "        print(\"Nome: {}\".format(self.nome))\n",
    "        print(\"CPF: {}\".format(self.cpf))\n",
    "        print(\"Endereço: {}\".format(self.endereco))\n",
    "        print(\"Telefone: {}\".format(self.telefone))\n"
   ]
  },
  {
   "source": [
    "## Classe Fotografia:"
   ],
   "cell_type": "markdown",
   "metadata": {}
  },
  {
   "cell_type": "code",
   "execution_count": null,
   "metadata": {},
   "outputs": [],
   "source": [
    "class Fotografia(object):\n",
    "    \n",
    "    _totalFotos = 0\n",
    "    __slots__ = [\"_foto\", \"_fotografo\", \"_data\", \"_propietario\"]\n",
    "\n",
    "    def __init__(self, foto, fotografo, data, proprietario):\n",
    "        self._foto = foto\n",
    "        self._fotografo = fotografo\n",
    "        self._data = data\n",
    "        self._propietario = proprietario\n",
    "        Fotografia._totalFotos += 1\n",
    "\n",
    "    @staticmethod\n",
    "    def getTotalFotos():\n",
    "        return Fotografia._totalFotos\n",
    "\n",
    "    @property\n",
    "    def foto(self):\n",
    "        return self._foto\n",
    "\n",
    "    @foto.setter\n",
    "    def foto(self, foto):\n",
    "        self._foto = foto\n",
    "\n",
    "    @property\n",
    "    def fotografo(self):\n",
    "        return self._fotografo\n",
    "\n",
    "    @fotografo.setter\n",
    "    def fotografo(self, fotografo):\n",
    "        self._fotografo = fotografo\n",
    "\n",
    "    @property\n",
    "    def data(self):\n",
    "        return self._data\n",
    "\n",
    "    @data.setter\n",
    "    def data(self, data):\n",
    "        self._data = data\n",
    "    \n",
    "    @property\n",
    "    def proprietario(self):\n",
    "        return self._propietario\n",
    "\n",
    "    @proprietario.setter\n",
    "    def proprietario(self, proprietario):\n",
    "        self._propietario = proprietario\n",
    "\n",
    "\n",
    "    def mostrarFotografia(self):\n",
    "        imshow(self.foto)\n",
    "\n",
    "    def propriedadesFotografia(self):\n",
    "        print(\"Tamanho:\")\n",
    "        print(self.foto.shape)\n",
    "        \n",
    "        print(\"Fotografo:\")\n",
    "        self.fotografo.mostrarPessoa()\n",
    "\n",
    "        print(\"Data: {}\".format(self.data))\n",
    "\n"
   ]
  },
  {
   "source": [
    "## Main da Atividade:"
   ],
   "cell_type": "markdown",
   "metadata": {}
  },
  {
   "cell_type": "code",
   "execution_count": null,
   "metadata": {},
   "outputs": [],
   "source": [
    "if __name__ == \"__main__\":\n",
    "    p1 = Pessoa(\"Pablo Silva\", \"123.456.789-10\", \"R. Henrique\", \"(99) 9 8765-4321\")\n",
    "    p2 = Pessoa(\"Fulano de Tal\", \"123.456.789-11\", \"R. dos Bobos\", \"(11) 2 3456-7890\")\n",
    "\n",
    "    img1 = imread(\"source/tt_jantando.png\")\n",
    "    img2 = imread(\"source/pain_tri.jpg\")\n",
    "\n",
    "    photo1 = Fotografia(img1, p1, date.today(), p2)\n",
    "    photo2 = Fotografia(img2, p2, date.today(), p1)\n",
    "\n",
    "    print(photo1.getTotalFotos())\n",
    "    photo1.propriedadesFotografia()\n",
    "    photo1.mostrarFotografia()\n"
   ]
  }
 ]
}